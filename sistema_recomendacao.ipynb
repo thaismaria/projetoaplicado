{
 "cells": [
  {
   "cell_type": "markdown",
   "metadata": {},
   "source": [
    "# PA - Estudo de Sistema de Recomendação com dados da Amazon."
   ]
  },
  {
   "cell_type": "markdown",
   "metadata": {},
   "source": [
    "# Sprint 1"
   ]
  },
  {
   "cell_type": "code",
   "execution_count": 1,
   "metadata": {},
   "outputs": [],
   "source": [
    "# BASE DE DADOS: http://jmcauley.ucsd.edu/data/amazon/links.html"
   ]
  },
  {
   "cell_type": "code",
   "execution_count": 2,
   "metadata": {},
   "outputs": [],
   "source": [
    "#bibliotecas basicas\n",
    "import pandas as pd\n",
    "import matplotlib.pyplot as plt\n",
    "import seaborn as sns"
   ]
  },
  {
   "cell_type": "code",
   "execution_count": 55,
   "metadata": {},
   "outputs": [],
   "source": [
    "# mportação SURPRISE\n",
    "from surprise import KNNWithMeans\n",
    "from surprise import KNNBaseline\n",
    "from surprise import Dataset\n",
    "from surprise import accuracy\n",
    "from surprise import Reader\n",
    "import os\n",
    "from surprise.model_selection import train_test_split\n",
    "from surprise.prediction_algorithms.slope_one import SlopeOne\n",
    "from surprise.prediction_algorithms.co_clustering import CoClustering"
   ]
  },
  {
   "cell_type": "markdown",
   "metadata": {},
   "source": [
    "### Importação base "
   ]
  },
  {
   "cell_type": "code",
   "execution_count": 3,
   "metadata": {},
   "outputs": [],
   "source": [
    "df_beleza = pd.read_csv('dados/ratings_Beauty.csv', names = ['userID', 'prodID', 'ratings', 'data'], header = 0)"
   ]
  },
  {
   "cell_type": "code",
   "execution_count": 4,
   "metadata": {},
   "outputs": [
    {
     "data": {
      "text/plain": [
       "(2023069, 4)"
      ]
     },
     "execution_count": 4,
     "metadata": {},
     "output_type": "execute_result"
    }
   ],
   "source": [
    "df_beleza.shape"
   ]
  },
  {
   "cell_type": "code",
   "execution_count": 5,
   "metadata": {},
   "outputs": [
    {
     "data": {
      "text/html": [
       "<div>\n",
       "<style scoped>\n",
       "    .dataframe tbody tr th:only-of-type {\n",
       "        vertical-align: middle;\n",
       "    }\n",
       "\n",
       "    .dataframe tbody tr th {\n",
       "        vertical-align: top;\n",
       "    }\n",
       "\n",
       "    .dataframe thead th {\n",
       "        text-align: right;\n",
       "    }\n",
       "</style>\n",
       "<table border=\"1\" class=\"dataframe\">\n",
       "  <thead>\n",
       "    <tr style=\"text-align: right;\">\n",
       "      <th></th>\n",
       "      <th>userID</th>\n",
       "      <th>prodID</th>\n",
       "      <th>ratings</th>\n",
       "      <th>data</th>\n",
       "    </tr>\n",
       "  </thead>\n",
       "  <tbody>\n",
       "    <tr>\n",
       "      <th>0</th>\n",
       "      <td>A3JM6GV9MNOF9X</td>\n",
       "      <td>0558925278</td>\n",
       "      <td>3.0</td>\n",
       "      <td>1355443200</td>\n",
       "    </tr>\n",
       "    <tr>\n",
       "      <th>1</th>\n",
       "      <td>A1Z513UWSAAO0F</td>\n",
       "      <td>0558925278</td>\n",
       "      <td>5.0</td>\n",
       "      <td>1404691200</td>\n",
       "    </tr>\n",
       "    <tr>\n",
       "      <th>2</th>\n",
       "      <td>A1WMRR494NWEWV</td>\n",
       "      <td>0733001998</td>\n",
       "      <td>4.0</td>\n",
       "      <td>1382572800</td>\n",
       "    </tr>\n",
       "    <tr>\n",
       "      <th>3</th>\n",
       "      <td>A3IAAVS479H7M7</td>\n",
       "      <td>0737104473</td>\n",
       "      <td>1.0</td>\n",
       "      <td>1274227200</td>\n",
       "    </tr>\n",
       "    <tr>\n",
       "      <th>4</th>\n",
       "      <td>AKJHHD5VEH7VG</td>\n",
       "      <td>0762451459</td>\n",
       "      <td>5.0</td>\n",
       "      <td>1404518400</td>\n",
       "    </tr>\n",
       "    <tr>\n",
       "      <th>5</th>\n",
       "      <td>A1BG8QW55XHN6U</td>\n",
       "      <td>1304139212</td>\n",
       "      <td>5.0</td>\n",
       "      <td>1371945600</td>\n",
       "    </tr>\n",
       "    <tr>\n",
       "      <th>6</th>\n",
       "      <td>A22VW0P4VZHDE3</td>\n",
       "      <td>1304139220</td>\n",
       "      <td>5.0</td>\n",
       "      <td>1373068800</td>\n",
       "    </tr>\n",
       "    <tr>\n",
       "      <th>7</th>\n",
       "      <td>A3V3RE4132GKRO</td>\n",
       "      <td>130414089X</td>\n",
       "      <td>5.0</td>\n",
       "      <td>1401840000</td>\n",
       "    </tr>\n",
       "    <tr>\n",
       "      <th>8</th>\n",
       "      <td>A327B0I7CYTEJC</td>\n",
       "      <td>130414643X</td>\n",
       "      <td>4.0</td>\n",
       "      <td>1389052800</td>\n",
       "    </tr>\n",
       "    <tr>\n",
       "      <th>9</th>\n",
       "      <td>A1BG8QW55XHN6U</td>\n",
       "      <td>130414643X</td>\n",
       "      <td>5.0</td>\n",
       "      <td>1372032000</td>\n",
       "    </tr>\n",
       "  </tbody>\n",
       "</table>\n",
       "</div>"
      ],
      "text/plain": [
       "           userID      prodID  ratings        data\n",
       "0  A3JM6GV9MNOF9X  0558925278      3.0  1355443200\n",
       "1  A1Z513UWSAAO0F  0558925278      5.0  1404691200\n",
       "2  A1WMRR494NWEWV  0733001998      4.0  1382572800\n",
       "3  A3IAAVS479H7M7  0737104473      1.0  1274227200\n",
       "4   AKJHHD5VEH7VG  0762451459      5.0  1404518400\n",
       "5  A1BG8QW55XHN6U  1304139212      5.0  1371945600\n",
       "6  A22VW0P4VZHDE3  1304139220      5.0  1373068800\n",
       "7  A3V3RE4132GKRO  130414089X      5.0  1401840000\n",
       "8  A327B0I7CYTEJC  130414643X      4.0  1389052800\n",
       "9  A1BG8QW55XHN6U  130414643X      5.0  1372032000"
      ]
     },
     "execution_count": 5,
     "metadata": {},
     "output_type": "execute_result"
    }
   ],
   "source": [
    "df_beleza.head(10)"
   ]
  },
  {
   "cell_type": "markdown",
   "metadata": {},
   "source": [
    "### Análise Exploratória"
   ]
  },
  {
   "cell_type": "code",
   "execution_count": 6,
   "metadata": {},
   "outputs": [
    {
     "data": {
      "text/plain": [
       "pandas.core.frame.DataFrame"
      ]
     },
     "execution_count": 6,
     "metadata": {},
     "output_type": "execute_result"
    }
   ],
   "source": [
    "type(df_beleza)"
   ]
  },
  {
   "cell_type": "code",
   "execution_count": 7,
   "metadata": {},
   "outputs": [
    {
     "name": "stdout",
     "output_type": "stream",
     "text": [
      "<class 'pandas.core.frame.DataFrame'>\n",
      "RangeIndex: 2023069 entries, 0 to 2023068\n",
      "Data columns (total 4 columns):\n",
      " #   Column   Dtype  \n",
      "---  ------   -----  \n",
      " 0   userID   object \n",
      " 1   prodID   object \n",
      " 2   ratings  float64\n",
      " 3   data     int64  \n",
      "dtypes: float64(1), int64(1), object(2)\n",
      "memory usage: 61.7+ MB\n"
     ]
    }
   ],
   "source": [
    "#tipos das variaveis e tamanho\n",
    "df_beleza.info()"
   ]
  },
  {
   "cell_type": "code",
   "execution_count": 8,
   "metadata": {},
   "outputs": [
    {
     "data": {
      "text/plain": [
       "userID     0\n",
       "prodID     0\n",
       "ratings    0\n",
       "data       0\n",
       "dtype: int64"
      ]
     },
     "execution_count": 8,
     "metadata": {},
     "output_type": "execute_result"
    }
   ],
   "source": [
    "# valores nulos na base\n",
    "df_beleza.isnull().sum()"
   ]
  },
  {
   "cell_type": "code",
   "execution_count": 9,
   "metadata": {},
   "outputs": [
    {
     "data": {
      "text/plain": [
       "count    2.023069e+06\n",
       "mean     4.149035e+00\n",
       "std      1.311505e+00\n",
       "min      1.000000e+00\n",
       "25%      4.000000e+00\n",
       "50%      5.000000e+00\n",
       "75%      5.000000e+00\n",
       "max      5.000000e+00\n",
       "Name: ratings, dtype: float64"
      ]
     },
     "execution_count": 9,
     "metadata": {},
     "output_type": "execute_result"
    }
   ],
   "source": [
    "df_beleza.describe()['ratings']"
   ]
  },
  {
   "cell_type": "code",
   "execution_count": 10,
   "metadata": {},
   "outputs": [
    {
     "name": "stderr",
     "output_type": "stream",
     "text": [
      "C:\\Users\\thais\\anaconda3\\lib\\site-packages\\seaborn\\categorical.py:3704: UserWarning: The `factorplot` function has been renamed to `catplot`. The original name will be removed in a future release. Please update your code. Note that the default `kind` in `factorplot` (`'point'`) has changed `'strip'` in `catplot`.\n",
      "  warnings.warn(msg)\n",
      "C:\\Users\\thais\\anaconda3\\lib\\site-packages\\seaborn\\_decorators.py:36: FutureWarning: Pass the following variable as a keyword arg: x. From version 0.12, the only valid positional argument will be `data`, and passing other arguments without an explicit keyword will result in an error or misinterpretation.\n",
      "  warnings.warn(\n"
     ]
    },
    {
     "data": {
      "image/png": "[encoded data removed]",
      "text/plain": [
       "<Figure size 720x360 with 1 Axes>"
      ]
     },
     "metadata": {},
     "output_type": "display_data"
    }
   ],
   "source": [
    "# distribuição das avaliações\n",
    "with sns.axes_style('white'):\n",
    "    g = sns.factorplot(\"ratings\", data=df_beleza, aspect=2.0,kind='count')\n",
    "    g.set_ylabels(\"Distribuição das Avaliações\")"
   ]
  },
  {
   "cell_type": "code",
   "execution_count": 11,
   "metadata": {},
   "outputs": [
    {
     "data": {
      "text/plain": [
       "userID\n",
       "A3KEZLJ59C1JVH    389\n",
       "A281NPSIMI1C2R    336\n",
       "A3M174IC0VXOS2    326\n",
       "A2V5R832QCSOMX    278\n",
       "A3LJLRIZL38GG3    276\n",
       "ALQGOMOY1F5X9     275\n",
       "AKMEY1BSHSDG7     269\n",
       "A3R9H6OKZHHRJD    259\n",
       "A1M04H40ZVGWVG    249\n",
       "A1RRMZKOMZ2M7J    225\n",
       "Name: ratings, dtype: int64"
      ]
     },
     "execution_count": 11,
     "metadata": {},
     "output_type": "execute_result"
    }
   ],
   "source": [
    "# agrupando as avaliações dos usuarios\n",
    "usuarios = df_beleza.groupby(by='userID')['ratings'].count().sort_values(ascending=False)\n",
    "usuarios.head(10)"
   ]
  },
  {
   "cell_type": "code",
   "execution_count": 12,
   "metadata": {},
   "outputs": [
    {
     "data": {
      "text/plain": [
       "count    1.210271e+06\n",
       "mean     1.671583e+00\n",
       "std      2.531884e+00\n",
       "min      1.000000e+00\n",
       "25%      1.000000e+00\n",
       "50%      1.000000e+00\n",
       "75%      2.000000e+00\n",
       "max      3.890000e+02\n",
       "Name: ratings, dtype: float64"
      ]
     },
     "execution_count": 12,
     "metadata": {},
     "output_type": "execute_result"
    }
   ],
   "source": [
    "usuarios.describe()"
   ]
  },
  {
   "cell_type": "code",
   "execution_count": 13,
   "metadata": {},
   "outputs": [
    {
     "data": {
      "image/png": "[encoded data removed]",
      "text/plain": [
       "<Figure size 360x360 with 1 Axes>"
      ]
     },
     "metadata": {
      "needs_background": "light"
     },
     "output_type": "display_data"
    }
   ],
   "source": [
    "#usuarios que mais avaliaram\n",
    "plt.figure(figsize=(5,5))\n",
    "usuarios.head(10).plot(kind='bar')\n",
    "plt.title(\"Top 10 Avaliadores\")\n",
    "plt.show()"
   ]
  },
  {
   "cell_type": "code",
   "execution_count": 14,
   "metadata": {},
   "outputs": [
    {
     "data": {
      "text/plain": [
       "prodID\n",
       "B001MA0QY2    7533\n",
       "B0009V1YR8    2869\n",
       "B0043OYFKU    2477\n",
       "B0000YUXI0    2143\n",
       "B003V265QW    2088\n",
       "B000ZMBSPE    2041\n",
       "B003BQ6QXK    1918\n",
       "B004OHQR1Q    1885\n",
       "B00121UVU0    1838\n",
       "B000FS05VG    1589\n",
       "Name: ratings, dtype: int64"
      ]
     },
     "execution_count": 14,
     "metadata": {},
     "output_type": "execute_result"
    }
   ],
   "source": [
    "# agrupando por produtos\n",
    "top_beleza = df_beleza.groupby(by='prodID')['ratings'].count().sort_values(ascending=False)\n",
    "top_beleza.head(10)"
   ]
  },
  {
   "cell_type": "code",
   "execution_count": 15,
   "metadata": {
    "scrolled": true
   },
   "outputs": [
    {
     "data": {
      "image/png": "[encoded data removed]",
      "text/plain": [
       "<Figure size 360x360 with 1 Axes>"
      ]
     },
     "metadata": {
      "needs_background": "light"
     },
     "output_type": "display_data"
    }
   ],
   "source": [
    "#Beleza mais avaliados\n",
    "plt.figure(figsize=(5,5))\n",
    "top_beleza.head(10).plot(kind='bar')\n",
    "plt.title(\"Top 10 produtos de beleza avaliados\")\n",
    "plt.show()"
   ]
  },
  {
   "cell_type": "markdown",
   "metadata": {},
   "source": [
    "# SPRINT 2"
   ]
  },
  {
   "cell_type": "code",
   "execution_count": 16,
   "metadata": {},
   "outputs": [
    {
     "name": "stdout",
     "output_type": "stream",
     "text": [
      "Quantidade de Usuários que avaliaram mais de 50 vezes: 361\n"
     ]
    }
   ],
   "source": [
    "#Usuarios que avaliaram mais de 50 vezes \n",
    "base_usuarios_mais = df_beleza.groupby('userID').ratings.count().sort_values(ascending=False)\n",
    "\n",
    "print('Quantidade de Usuários que avaliaram mais de 50 vezes: {}'.format(sum(base_usuarios_mais>=50)))"
   ]
  },
  {
   "cell_type": "code",
   "execution_count": 17,
   "metadata": {},
   "outputs": [
    {
     "name": "stdout",
     "output_type": "stream",
     "text": [
      "Produtos de beleza avaliados mais de 50 vezes: 6971\n"
     ]
    }
   ],
   "source": [
    "#produtos de beleza avaliados mais de 50 vezes \n",
    "base_beleza_mais = df_beleza.groupby('prodID').ratings.count().sort_values(ascending=False)\n",
    "\n",
    "print('Produtos de beleza avaliados mais de 50 vezes: {}'.format(sum(base_beleza_mais>=50)))"
   ]
  },
  {
   "cell_type": "markdown",
   "metadata": {},
   "source": [
    "### Definindo nova base com produtos de beleza que tiveram pelo menos 50 avaliações"
   ]
  },
  {
   "cell_type": "code",
   "execution_count": 18,
   "metadata": {},
   "outputs": [],
   "source": [
    "base_up = df_beleza.groupby(\"prodID\").filter(lambda x:x['ratings'].count() >=50)"
   ]
  },
  {
   "cell_type": "code",
   "execution_count": 19,
   "metadata": {},
   "outputs": [
    {
     "data": {
      "text/html": [
       "<div>\n",
       "<style scoped>\n",
       "    .dataframe tbody tr th:only-of-type {\n",
       "        vertical-align: middle;\n",
       "    }\n",
       "\n",
       "    .dataframe tbody tr th {\n",
       "        vertical-align: top;\n",
       "    }\n",
       "\n",
       "    .dataframe thead th {\n",
       "        text-align: right;\n",
       "    }\n",
       "</style>\n",
       "<table border=\"1\" class=\"dataframe\">\n",
       "  <thead>\n",
       "    <tr style=\"text-align: right;\">\n",
       "      <th></th>\n",
       "      <th>userID</th>\n",
       "      <th>prodID</th>\n",
       "      <th>ratings</th>\n",
       "      <th>data</th>\n",
       "    </tr>\n",
       "  </thead>\n",
       "  <tbody>\n",
       "    <tr>\n",
       "      <th>1704</th>\n",
       "      <td>A2SR9M2CWC2OCP</td>\n",
       "      <td>9790790961</td>\n",
       "      <td>4.0</td>\n",
       "      <td>1379894400</td>\n",
       "    </tr>\n",
       "    <tr>\n",
       "      <th>1705</th>\n",
       "      <td>A3V1EVBYP0U77W</td>\n",
       "      <td>9790790961</td>\n",
       "      <td>2.0</td>\n",
       "      <td>1397606400</td>\n",
       "    </tr>\n",
       "    <tr>\n",
       "      <th>1706</th>\n",
       "      <td>AVJKKAS4P52P9</td>\n",
       "      <td>9790790961</td>\n",
       "      <td>5.0</td>\n",
       "      <td>1404432000</td>\n",
       "    </tr>\n",
       "    <tr>\n",
       "      <th>1707</th>\n",
       "      <td>A2NQQDBBGFW1OT</td>\n",
       "      <td>9790790961</td>\n",
       "      <td>5.0</td>\n",
       "      <td>1390694400</td>\n",
       "    </tr>\n",
       "    <tr>\n",
       "      <th>1708</th>\n",
       "      <td>A1OFNEUHZ7BSCB</td>\n",
       "      <td>9790790961</td>\n",
       "      <td>5.0</td>\n",
       "      <td>1392336000</td>\n",
       "    </tr>\n",
       "  </tbody>\n",
       "</table>\n",
       "</div>"
      ],
      "text/plain": [
       "              userID      prodID  ratings        data\n",
       "1704  A2SR9M2CWC2OCP  9790790961      4.0  1379894400\n",
       "1705  A3V1EVBYP0U77W  9790790961      2.0  1397606400\n",
       "1706   AVJKKAS4P52P9  9790790961      5.0  1404432000\n",
       "1707  A2NQQDBBGFW1OT  9790790961      5.0  1390694400\n",
       "1708  A1OFNEUHZ7BSCB  9790790961      5.0  1392336000"
      ]
     },
     "execution_count": 19,
     "metadata": {},
     "output_type": "execute_result"
    }
   ],
   "source": [
    "base_up.head(5)"
   ]
  },
  {
   "cell_type": "code",
   "execution_count": 20,
   "metadata": {},
   "outputs": [
    {
     "data": {
      "text/plain": [
       "(906759, 4)"
      ]
     },
     "execution_count": 20,
     "metadata": {},
     "output_type": "execute_result"
    }
   ],
   "source": [
    "#tamanho da nova base\n",
    "base_up.shape"
   ]
  },
  {
   "cell_type": "markdown",
   "metadata": {},
   "source": [
    "### Calculando média e contagem para a base df"
   ]
  },
  {
   "cell_type": "code",
   "execution_count": 21,
   "metadata": {},
   "outputs": [],
   "source": [
    "df = df['media_avaliacoes'] = pd.DataFrame(base_up.groupby('prodID').ratings.mean())"
   ]
  },
  {
   "cell_type": "code",
   "execution_count": 22,
   "metadata": {},
   "outputs": [],
   "source": [
    "df['total_avaliacoes'] = base_up.groupby('prodID').ratings.count()"
   ]
  },
  {
   "cell_type": "code",
   "execution_count": 23,
   "metadata": {},
   "outputs": [
    {
     "data": {
      "text/html": [
       "<div>\n",
       "<style scoped>\n",
       "    .dataframe tbody tr th:only-of-type {\n",
       "        vertical-align: middle;\n",
       "    }\n",
       "\n",
       "    .dataframe tbody tr th {\n",
       "        vertical-align: top;\n",
       "    }\n",
       "\n",
       "    .dataframe thead th {\n",
       "        text-align: right;\n",
       "    }\n",
       "</style>\n",
       "<table border=\"1\" class=\"dataframe\">\n",
       "  <thead>\n",
       "    <tr style=\"text-align: right;\">\n",
       "      <th></th>\n",
       "      <th>ratings</th>\n",
       "      <th>media_avaliacoes</th>\n",
       "      <th>total_avaliacoes</th>\n",
       "    </tr>\n",
       "    <tr>\n",
       "      <th>prodID</th>\n",
       "      <th></th>\n",
       "      <th></th>\n",
       "      <th></th>\n",
       "    </tr>\n",
       "  </thead>\n",
       "  <tbody>\n",
       "    <tr>\n",
       "      <th>9790790961</th>\n",
       "      <td>4.271429</td>\n",
       "      <td>4.271429</td>\n",
       "      <td>70</td>\n",
       "    </tr>\n",
       "    <tr>\n",
       "      <th>9790799829</th>\n",
       "      <td>2.640000</td>\n",
       "      <td>2.640000</td>\n",
       "      <td>50</td>\n",
       "    </tr>\n",
       "    <tr>\n",
       "      <th>B00004TMFE</th>\n",
       "      <td>3.445255</td>\n",
       "      <td>3.445255</td>\n",
       "      <td>137</td>\n",
       "    </tr>\n",
       "    <tr>\n",
       "      <th>B00004TUBL</th>\n",
       "      <td>4.634409</td>\n",
       "      <td>4.634409</td>\n",
       "      <td>558</td>\n",
       "    </tr>\n",
       "    <tr>\n",
       "      <th>B00004TUBV</th>\n",
       "      <td>4.269006</td>\n",
       "      <td>4.269006</td>\n",
       "      <td>171</td>\n",
       "    </tr>\n",
       "  </tbody>\n",
       "</table>\n",
       "</div>"
      ],
      "text/plain": [
       "             ratings  media_avaliacoes  total_avaliacoes\n",
       "prodID                                                  \n",
       "9790790961  4.271429          4.271429                70\n",
       "9790799829  2.640000          2.640000                50\n",
       "B00004TMFE  3.445255          3.445255               137\n",
       "B00004TUBL  4.634409          4.634409               558\n",
       "B00004TUBV  4.269006          4.269006               171"
      ]
     },
     "execution_count": 23,
     "metadata": {},
     "output_type": "execute_result"
    }
   ],
   "source": [
    "df.head(5)"
   ]
  },
  {
   "cell_type": "markdown",
   "metadata": {},
   "source": [
    "## Recomendação: Baseada em Popularidade "
   ]
  },
  {
   "cell_type": "code",
   "execution_count": 24,
   "metadata": {},
   "outputs": [
    {
     "data": {
      "text/html": [
       "<div>\n",
       "<style scoped>\n",
       "    .dataframe tbody tr th:only-of-type {\n",
       "        vertical-align: middle;\n",
       "    }\n",
       "\n",
       "    .dataframe tbody tr th {\n",
       "        vertical-align: top;\n",
       "    }\n",
       "\n",
       "    .dataframe thead th {\n",
       "        text-align: right;\n",
       "    }\n",
       "</style>\n",
       "<table border=\"1\" class=\"dataframe\">\n",
       "  <thead>\n",
       "    <tr style=\"text-align: right;\">\n",
       "      <th></th>\n",
       "      <th>ratings</th>\n",
       "      <th>media_avaliacoes</th>\n",
       "      <th>total_avaliacoes</th>\n",
       "    </tr>\n",
       "    <tr>\n",
       "      <th>prodID</th>\n",
       "      <th></th>\n",
       "      <th></th>\n",
       "      <th></th>\n",
       "    </tr>\n",
       "  </thead>\n",
       "  <tbody>\n",
       "    <tr>\n",
       "      <th>B001MA0QY2</th>\n",
       "      <td>4.321386</td>\n",
       "      <td>4.321386</td>\n",
       "      <td>7533</td>\n",
       "    </tr>\n",
       "    <tr>\n",
       "      <th>B0009V1YR8</th>\n",
       "      <td>3.568839</td>\n",
       "      <td>3.568839</td>\n",
       "      <td>2869</td>\n",
       "    </tr>\n",
       "    <tr>\n",
       "      <th>B0043OYFKU</th>\n",
       "      <td>4.310456</td>\n",
       "      <td>4.310456</td>\n",
       "      <td>2477</td>\n",
       "    </tr>\n",
       "    <tr>\n",
       "      <th>B0000YUXI0</th>\n",
       "      <td>4.405040</td>\n",
       "      <td>4.405040</td>\n",
       "      <td>2143</td>\n",
       "    </tr>\n",
       "    <tr>\n",
       "      <th>B003V265QW</th>\n",
       "      <td>4.365421</td>\n",
       "      <td>4.365421</td>\n",
       "      <td>2088</td>\n",
       "    </tr>\n",
       "    <tr>\n",
       "      <th>B000ZMBSPE</th>\n",
       "      <td>4.422342</td>\n",
       "      <td>4.422342</td>\n",
       "      <td>2041</td>\n",
       "    </tr>\n",
       "    <tr>\n",
       "      <th>B003BQ6QXK</th>\n",
       "      <td>4.625652</td>\n",
       "      <td>4.625652</td>\n",
       "      <td>1918</td>\n",
       "    </tr>\n",
       "    <tr>\n",
       "      <th>B004OHQR1Q</th>\n",
       "      <td>4.465782</td>\n",
       "      <td>4.465782</td>\n",
       "      <td>1885</td>\n",
       "    </tr>\n",
       "    <tr>\n",
       "      <th>B00121UVU0</th>\n",
       "      <td>4.538085</td>\n",
       "      <td>4.538085</td>\n",
       "      <td>1838</td>\n",
       "    </tr>\n",
       "    <tr>\n",
       "      <th>B000FS05VG</th>\n",
       "      <td>4.159849</td>\n",
       "      <td>4.159849</td>\n",
       "      <td>1589</td>\n",
       "    </tr>\n",
       "  </tbody>\n",
       "</table>\n",
       "</div>"
      ],
      "text/plain": [
       "             ratings  media_avaliacoes  total_avaliacoes\n",
       "prodID                                                  \n",
       "B001MA0QY2  4.321386          4.321386              7533\n",
       "B0009V1YR8  3.568839          3.568839              2869\n",
       "B0043OYFKU  4.310456          4.310456              2477\n",
       "B0000YUXI0  4.405040          4.405040              2143\n",
       "B003V265QW  4.365421          4.365421              2088\n",
       "B000ZMBSPE  4.422342          4.422342              2041\n",
       "B003BQ6QXK  4.625652          4.625652              1918\n",
       "B004OHQR1Q  4.465782          4.465782              1885\n",
       "B00121UVU0  4.538085          4.538085              1838\n",
       "B000FS05VG  4.159849          4.159849              1589"
      ]
     },
     "execution_count": 24,
     "metadata": {},
     "output_type": "execute_result"
    }
   ],
   "source": [
    "#ordenando por contagem\n",
    "df.sort_values(by='total_avaliacoes', ascending=False).head(10)"
   ]
  },
  {
   "cell_type": "code",
   "execution_count": 25,
   "metadata": {},
   "outputs": [
    {
     "data": {
      "text/html": [
       "<div>\n",
       "<style scoped>\n",
       "    .dataframe tbody tr th:only-of-type {\n",
       "        vertical-align: middle;\n",
       "    }\n",
       "\n",
       "    .dataframe tbody tr th {\n",
       "        vertical-align: top;\n",
       "    }\n",
       "\n",
       "    .dataframe thead th {\n",
       "        text-align: right;\n",
       "    }\n",
       "</style>\n",
       "<table border=\"1\" class=\"dataframe\">\n",
       "  <thead>\n",
       "    <tr style=\"text-align: right;\">\n",
       "      <th></th>\n",
       "      <th>ratings</th>\n",
       "      <th>media_avaliacoes</th>\n",
       "      <th>total_avaliacoes</th>\n",
       "    </tr>\n",
       "    <tr>\n",
       "      <th>prodID</th>\n",
       "      <th></th>\n",
       "      <th></th>\n",
       "      <th></th>\n",
       "    </tr>\n",
       "  </thead>\n",
       "  <tbody>\n",
       "    <tr>\n",
       "      <th>B004CNRDBU</th>\n",
       "      <td>5.000000</td>\n",
       "      <td>5.000000</td>\n",
       "      <td>58</td>\n",
       "    </tr>\n",
       "    <tr>\n",
       "      <th>B00K7ER6LU</th>\n",
       "      <td>4.976471</td>\n",
       "      <td>4.976471</td>\n",
       "      <td>85</td>\n",
       "    </tr>\n",
       "    <tr>\n",
       "      <th>B00KH6F6TM</th>\n",
       "      <td>4.965517</td>\n",
       "      <td>4.965517</td>\n",
       "      <td>58</td>\n",
       "    </tr>\n",
       "    <tr>\n",
       "      <th>B00FPROWWU</th>\n",
       "      <td>4.962025</td>\n",
       "      <td>4.962025</td>\n",
       "      <td>79</td>\n",
       "    </tr>\n",
       "    <tr>\n",
       "      <th>B002YFN49I</th>\n",
       "      <td>4.948980</td>\n",
       "      <td>4.948980</td>\n",
       "      <td>98</td>\n",
       "    </tr>\n",
       "    <tr>\n",
       "      <th>B00J3K9W6G</th>\n",
       "      <td>4.943396</td>\n",
       "      <td>4.943396</td>\n",
       "      <td>53</td>\n",
       "    </tr>\n",
       "    <tr>\n",
       "      <th>B009OWSHQE</th>\n",
       "      <td>4.943182</td>\n",
       "      <td>4.943182</td>\n",
       "      <td>88</td>\n",
       "    </tr>\n",
       "    <tr>\n",
       "      <th>B001PX1AIC</th>\n",
       "      <td>4.920635</td>\n",
       "      <td>4.920635</td>\n",
       "      <td>63</td>\n",
       "    </tr>\n",
       "    <tr>\n",
       "      <th>B00I46E8DC</th>\n",
       "      <td>4.912791</td>\n",
       "      <td>4.912791</td>\n",
       "      <td>172</td>\n",
       "    </tr>\n",
       "    <tr>\n",
       "      <th>B00ANAL68M</th>\n",
       "      <td>4.909091</td>\n",
       "      <td>4.909091</td>\n",
       "      <td>66</td>\n",
       "    </tr>\n",
       "  </tbody>\n",
       "</table>\n",
       "</div>"
      ],
      "text/plain": [
       "             ratings  media_avaliacoes  total_avaliacoes\n",
       "prodID                                                  \n",
       "B004CNRDBU  5.000000          5.000000                58\n",
       "B00K7ER6LU  4.976471          4.976471                85\n",
       "B00KH6F6TM  4.965517          4.965517                58\n",
       "B00FPROWWU  4.962025          4.962025                79\n",
       "B002YFN49I  4.948980          4.948980                98\n",
       "B00J3K9W6G  4.943396          4.943396                53\n",
       "B009OWSHQE  4.943182          4.943182                88\n",
       "B001PX1AIC  4.920635          4.920635                63\n",
       "B00I46E8DC  4.912791          4.912791               172\n",
       "B00ANAL68M  4.909091          4.909091                66"
      ]
     },
     "execution_count": 25,
     "metadata": {},
     "output_type": "execute_result"
    }
   ],
   "source": [
    "#ordenando por média\n",
    "df.sort_values(by='ratings', ascending=False).head(10)"
   ]
  },
  {
   "cell_type": "markdown",
   "metadata": {},
   "source": [
    "## Recomendação: Filtragem Colaborativa baseada em item"
   ]
  },
  {
   "cell_type": "markdown",
   "metadata": {},
   "source": [
    "### Configurando os parametros"
   ]
  },
  {
   "cell_type": "code",
   "execution_count": 27,
   "metadata": {},
   "outputs": [],
   "source": [
    "# escala de avaliação que varia entre 0 e 5.\n",
    "reader = Reader(rating_scale=(0,5))"
   ]
  },
  {
   "cell_type": "code",
   "execution_count": 28,
   "metadata": {},
   "outputs": [],
   "source": [
    "#selecionando as colunas\n",
    "data = Dataset.load_from_df(base_up[['userID', 'prodID', 'ratings']], reader)"
   ]
  },
  {
   "cell_type": "code",
   "execution_count": 29,
   "metadata": {},
   "outputs": [],
   "source": [
    "# divisão dos dados de treino e teste 70/30\n",
    "trainset, testset = train_test_split(data, test_size=.3, random_state=1)"
   ]
  },
  {
   "cell_type": "markdown",
   "metadata": {},
   "source": [
    "## Modelo KNNWithMeans"
   ]
  },
  {
   "cell_type": "code",
   "execution_count": 30,
   "metadata": {},
   "outputs": [],
   "source": [
    "#medidas de similariedade\n",
    "#user_based False = similaridade dos itens\n",
    "sim_options_means = { 'name': 'msd', 'user_based': False }"
   ]
  },
  {
   "cell_type": "code",
   "execution_count": 31,
   "metadata": {},
   "outputs": [],
   "source": [
    "# Criação do modelo\n",
    "#máximo de vizinhos a serem considerados. O padrão é 40.\n",
    "modelo_knn_means = KNNWithMeans(k=40, sim_options=sim_options_means)"
   ]
  },
  {
   "cell_type": "code",
   "execution_count": 32,
   "metadata": {},
   "outputs": [
    {
     "name": "stdout",
     "output_type": "stream",
     "text": [
      "Computing the msd similarity matrix...\n",
      "Done computing similarity matrix.\n"
     ]
    },
    {
     "data": {
      "text/plain": [
       "<surprise.prediction_algorithms.knns.KNNWithMeans at 0x2ae99de4ee0>"
      ]
     },
     "execution_count": 32,
     "metadata": {},
     "output_type": "execute_result"
    }
   ],
   "source": [
    "# Treinamento do modelo\n",
    "modelo_knn_means.fit(trainset)"
   ]
  },
  {
   "cell_type": "code",
   "execution_count": 33,
   "metadata": {},
   "outputs": [
    {
     "name": "stdout",
     "output_type": "stream",
     "text": [
      "RMSE: 1.3022\n"
     ]
    },
    {
     "data": {
      "text/plain": [
       "1.3021733475218147"
      ]
     },
     "execution_count": 33,
     "metadata": {},
     "output_type": "execute_result"
    }
   ],
   "source": [
    "#avaliando o modelo pela Raiz do Erro Quadrático Médio (RMSE)\n",
    "predictions_knn_means = modelo_knn_means.test(testset)\n",
    "accuracy.rmse(predictions_knn_means)"
   ]
  },
  {
   "cell_type": "markdown",
   "metadata": {},
   "source": [
    "## Modelo KNNBaseline"
   ]
  },
  {
   "cell_type": "code",
   "execution_count": 51,
   "metadata": {},
   "outputs": [],
   "source": [
    "sim_options = { 'name': 'pearson_baseline', 'user_based': False }"
   ]
  },
  {
   "cell_type": "code",
   "execution_count": 52,
   "metadata": {},
   "outputs": [],
   "source": [
    "modelo_knn_base = KNNBaseline(k=40, sim_options=sim_options)"
   ]
  },
  {
   "cell_type": "code",
   "execution_count": 53,
   "metadata": {},
   "outputs": [
    {
     "name": "stdout",
     "output_type": "stream",
     "text": [
      "Estimating biases using als...\n",
      "Computing the pearson_baseline similarity matrix...\n",
      "Done computing similarity matrix.\n"
     ]
    },
    {
     "data": {
      "text/plain": [
       "<surprise.prediction_algorithms.knns.KNNBaseline at 0x2ae99ddbb20>"
      ]
     },
     "execution_count": 53,
     "metadata": {},
     "output_type": "execute_result"
    }
   ],
   "source": [
    "#treinando\n",
    "modelo_knn_base.fit(trainset)"
   ]
  },
  {
   "cell_type": "code",
   "execution_count": 37,
   "metadata": {},
   "outputs": [
    {
     "name": "stdout",
     "output_type": "stream",
     "text": [
      "RMSE: 1.2385\n"
     ]
    },
    {
     "data": {
      "text/plain": [
       "1.2385017251213521"
      ]
     },
     "execution_count": 37,
     "metadata": {},
     "output_type": "execute_result"
    }
   ],
   "source": [
    "#avaliando o modelo pela Raiz do Erro Quadrático Médio (RMSE)\n",
    "predictions_knn_base = modelo_knn_base.test(testset)\n",
    "accuracy.rmse(predictions_knn_base)"
   ]
  },
  {
   "cell_type": "markdown",
   "metadata": {},
   "source": [
    "# SPRINT 3"
   ]
  },
  {
   "cell_type": "markdown",
   "metadata": {},
   "source": [
    "## SlopeOne"
   ]
  },
  {
   "cell_type": "code",
   "execution_count": 56,
   "metadata": {},
   "outputs": [],
   "source": [
    "# Criação do modelo\n",
    "slo = SlopeOne()"
   ]
  },
  {
   "cell_type": "code",
   "execution_count": 57,
   "metadata": {},
   "outputs": [
    {
     "data": {
      "text/plain": [
       "<surprise.prediction_algorithms.slope_one.SlopeOne at 0x2ae99fc3fa0>"
      ]
     },
     "execution_count": 57,
     "metadata": {},
     "output_type": "execute_result"
    }
   ],
   "source": [
    "# Treinamento do modelo\n",
    "slo.fit(trainset)"
   ]
  },
  {
   "cell_type": "code",
   "execution_count": 58,
   "metadata": {},
   "outputs": [
    {
     "name": "stdout",
     "output_type": "stream",
     "text": [
      "RMSE: 1.3782\n"
     ]
    },
    {
     "data": {
      "text/plain": [
       "1.3781878509879075"
      ]
     },
     "execution_count": 58,
     "metadata": {},
     "output_type": "execute_result"
    }
   ],
   "source": [
    "#avaliando o modelo pela Raiz do Erro Quadrático Médio (RMSE)\n",
    "predictions_slo = slo.test(testset)\n",
    "accuracy.rmse(predictions_slo)"
   ]
  },
  {
   "cell_type": "markdown",
   "metadata": {},
   "source": [
    "## CoClustering"
   ]
  },
  {
   "cell_type": "code",
   "execution_count": 59,
   "metadata": {},
   "outputs": [],
   "source": [
    "# Criação do modelo\n",
    "#n_cltr_i ( int ) - Número de agrupamentos de itens\n",
    "#n_epochs ( int ) - Número de iterações do loop de otimização, padrão é 20\n",
    "co = CoClustering(n_cltr_i = 10, verbose=True, random_state=1)"
   ]
  },
  {
   "cell_type": "code",
   "execution_count": 60,
   "metadata": {},
   "outputs": [
    {
     "name": "stdout",
     "output_type": "stream",
     "text": [
      "Processing epoch 0\n",
      "Processing epoch 1\n",
      "Processing epoch 2\n",
      "Processing epoch 3\n",
      "Processing epoch 4\n",
      "Processing epoch 5\n",
      "Processing epoch 6\n",
      "Processing epoch 7\n",
      "Processing epoch 8\n",
      "Processing epoch 9\n",
      "Processing epoch 10\n",
      "Processing epoch 11\n",
      "Processing epoch 12\n",
      "Processing epoch 13\n",
      "Processing epoch 14\n",
      "Processing epoch 15\n",
      "Processing epoch 16\n",
      "Processing epoch 17\n",
      "Processing epoch 18\n",
      "Processing epoch 19\n"
     ]
    },
    {
     "data": {
      "text/plain": [
       "<surprise.prediction_algorithms.co_clustering.CoClustering at 0x2ae9a0bf700>"
      ]
     },
     "execution_count": 60,
     "metadata": {},
     "output_type": "execute_result"
    }
   ],
   "source": [
    "# Treinamento do modelo\n",
    "co.fit(trainset)"
   ]
  },
  {
   "cell_type": "code",
   "execution_count": 61,
   "metadata": {},
   "outputs": [
    {
     "name": "stdout",
     "output_type": "stream",
     "text": [
      "RMSE: 1.3442\n"
     ]
    },
    {
     "data": {
      "text/plain": [
       "1.3441559302182182"
      ]
     },
     "execution_count": 61,
     "metadata": {},
     "output_type": "execute_result"
    }
   ],
   "source": [
    "#avaliando o modelo pela Raiz do Erro Quadrático Médio (RMSE)\n",
    "predictions_co = co.test(testset)\n",
    "accuracy.rmse(predictions_co)"
   ]
  },
  {
   "cell_type": "markdown",
   "metadata": {},
   "source": [
    "### Entre os quatro modelos testados, apesar da pouca diferença, o melhor foi o KNNBaseline"
   ]
  },
  {
   "cell_type": "markdown",
   "metadata": {},
   "source": [
    " "
   ]
  },
  {
   "cell_type": "markdown",
   "metadata": {},
   "source": [
    "## Gerando recomendação"
   ]
  },
  {
   "cell_type": "code",
   "execution_count": 38,
   "metadata": {},
   "outputs": [
    {
     "data": {
      "text/plain": [
       "[4852, 424, 106, 0, 2, 3, 4, 5, 6, 7]"
      ]
     },
     "execution_count": 38,
     "metadata": {},
     "output_type": "execute_result"
    }
   ],
   "source": [
    "\n",
    "#10 vizinhos + proximos\n",
    "modelo_knn_base.get_neighbors(1, 10)"
   ]
  },
  {
   "cell_type": "code",
   "execution_count": 39,
   "metadata": {},
   "outputs": [
    {
     "data": {
      "text/plain": [
       "[4852, 424, 106, 0, 2, 3, 4, 5, 6, 7]"
      ]
     },
     "execution_count": 39,
     "metadata": {},
     "output_type": "execute_result"
    }
   ],
   "source": [
    "#para o usuario A3JM6GV9MNOF9X é recomendado esses produtos:\n",
    "modelo_knn_base.get_neighbors(1, 10)"
   ]
  },
  {
   "cell_type": "code",
   "execution_count": 40,
   "metadata": {},
   "outputs": [
    {
     "data": {
      "text/plain": [
       "Index(['B004VJ56AK', 'B0002Z1JJ4', 'B0000632EN', '9790790961', 'B00004TMFE',\n",
       "       'B00004TUBL', 'B00004TUBV', 'B00004U9UY', 'B00004U9V2', 'B000050B6U'],\n",
       "      dtype='object', name='prodID')"
      ]
     },
     "execution_count": 40,
     "metadata": {},
     "output_type": "execute_result"
    }
   ],
   "source": [
    "#buscando quais os produtos\n",
    "df.iloc[[4852, 424, 106, 0, 2, 3, 4, 5, 6, 7]].index"
   ]
  },
  {
   "cell_type": "markdown",
   "metadata": {},
   "source": [
    " "
   ]
  }
 ],
 "metadata": {
  "kernelspec": {
   "display_name": "Python 3",
   "language": "python",
   "name": "python3"
  },
  "language_info": {
   "codemirror_mode": {
    "name": "ipython",
    "version": 3
   },
   "file_extension": ".py",
   "mimetype": "text/x-python",
   "name": "python",
   "nbconvert_exporter": "python",
   "pygments_lexer": "ipython3",
   "version": "3.8.5"
  }
 },
 "nbformat": 4,
 "nbformat_minor": 4
}
